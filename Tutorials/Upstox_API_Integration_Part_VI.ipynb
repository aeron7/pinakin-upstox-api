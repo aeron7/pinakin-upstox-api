{
 "cells": [
  {
   "cell_type": "code",
   "execution_count": null,
   "id": "f9bfa699",
   "metadata": {},
   "outputs": [],
   "source": [
    "Visit this URL: \"https://api-v2.upstox.com/login/authorization/dialog?response_type=code&client_id=0daa59e7-9f62-4555-8fd0-6fbee8da3913&redirect_uri=https://www.unofficed.com/\". Then, Paste the code from the redirect browser.\n",
    "            \n",
    "            \n",
    "Paste the code from the redirect browser here: tjgOTs\n",
    "    \n",
    "client_id\n",
    "client_pass\n",
    "client_pin"
   ]
  },
  {
   "cell_type": "code",
   "execution_count": 21,
   "id": "e2927636",
   "metadata": {},
   "outputs": [],
   "source": [
    "import time \n",
    "\n",
    "from selenium import webdriver\n",
    "from selenium.webdriver.chrome.options import Options"
   ]
  },
  {
   "cell_type": "code",
   "execution_count": 22,
   "id": "e812dcc9",
   "metadata": {},
   "outputs": [],
   "source": [
    "options = Options()"
   ]
  },
  {
   "cell_type": "code",
   "execution_count": 23,
   "id": "e41b013a",
   "metadata": {},
   "outputs": [],
   "source": [
    "options.add_argument('--no-sandbox')"
   ]
  },
  {
   "cell_type": "code",
   "execution_count": 24,
   "id": "3d6901c7",
   "metadata": {},
   "outputs": [],
   "source": [
    "driver = webdriver.Chrome(options=options)"
   ]
  },
  {
   "cell_type": "code",
   "execution_count": 25,
   "id": "32f64c30",
   "metadata": {},
   "outputs": [],
   "source": [
    "url = \"https://api-v2.upstox.com/login/authorization/dialog?response_type=code&client_id=0daa59e7-9f62-4555-8fd0-6fbee8da3913&redirect_uri=https://www.unofficed.com/\"\n",
    "driver.get(url)"
   ]
  },
  {
   "cell_type": "code",
   "execution_count": 26,
   "id": "0efad7d0",
   "metadata": {},
   "outputs": [],
   "source": [
    "from selenium.webdriver.support.ui import WebDriverWait\n",
    "\n",
    "def wait_for_page_load(driver, timeout=30):\n",
    "    WebDriverWait(driver, timeout).until(\n",
    "        lambda d: d.execute_script('return document.readyState') == 'complete'\n",
    "    )\n",
    "\n",
    "wait_for_page_load(driver)\n"
   ]
  },
  {
   "cell_type": "code",
   "execution_count": 27,
   "id": "8130c2fd",
   "metadata": {},
   "outputs": [],
   "source": [
    "from selenium.webdriver.common.by import By"
   ]
  },
  {
   "cell_type": "code",
   "execution_count": 28,
   "id": "e9317210",
   "metadata": {},
   "outputs": [],
   "source": [
    "client_id = '9658986525'\n",
    "username_input_xpath = '//*[@id=\"mobileNum\"]'\n",
    "\n",
    "username_input_element = driver.find_element(By.XPATH, username_input_xpath)\n",
    "username_input_element.clear()\n",
    "username_input_element.send_keys(client_id)\n"
   ]
  },
  {
   "cell_type": "code",
   "execution_count": 29,
   "id": "fe23a037",
   "metadata": {},
   "outputs": [],
   "source": [
    "get_otp_button_xpath = '//*[@id=\"getOtp\"]'\n",
    "\n",
    "get_otp_button_element = driver.find_element(By.XPATH, get_otp_button_xpath)\n",
    "get_otp_button_element.click()"
   ]
  },
  {
   "cell_type": "code",
   "execution_count": 30,
   "id": "57d04504",
   "metadata": {},
   "outputs": [
    {
     "data": {
      "text/plain": [
       "'395920'"
      ]
     },
     "execution_count": 30,
     "metadata": {},
     "output_type": "execute_result"
    }
   ],
   "source": [
    "import pyotp\n",
    "\n",
    "client_pass = '2Y7NW7SMVYKTTNLO3AKPDN4SZGGWV75Z'\n",
    "client_pass = pyotp.TOTP(client_pass).now()\n",
    "client_pass"
   ]
  },
  {
   "cell_type": "code",
   "execution_count": 31,
   "id": "dec0a0bc",
   "metadata": {},
   "outputs": [],
   "source": [
    "password_input_xpath = '//*[@id=\"otpNum\"]'\n",
    "\n",
    "password_input_element = driver.find_element(By.XPATH, password_input_xpath)\n",
    "password_input_element.clear()\n",
    "password_input_element.send_keys(client_pass)\n",
    "\n",
    "\n",
    "continue_button_xpath = '//*[@id=\"continueBtn\"]'\n",
    "\n",
    "continue_button_element = driver.find_element(By.XPATH, continue_button_xpath)\n",
    "continue_button_element.click()\n",
    "\n"
   ]
  },
  {
   "cell_type": "code",
   "execution_count": 32,
   "id": "0ab2317e",
   "metadata": {},
   "outputs": [],
   "source": [
    "client_pin = \"933319\"  # Replace with the actual client pin\n",
    "\n",
    "# XPath for the pin input field\n",
    "pin_input_xpath = '//*[@id=\"pinCode\"]'\n",
    "\n",
    "# Find the pin input field and enter the pin\n",
    "pin_input_element = driver.find_element(By.XPATH, pin_input_xpath)\n",
    "pin_input_element.clear()\n",
    "pin_input_element.send_keys(client_pin)\n",
    "\n",
    "\n"
   ]
  },
  {
   "cell_type": "code",
   "execution_count": 33,
   "id": "2b4ec344",
   "metadata": {},
   "outputs": [
    {
     "data": {
      "text/plain": [
       "'https://login.upstox.com/'"
      ]
     },
     "execution_count": 33,
     "metadata": {},
     "output_type": "execute_result"
    }
   ],
   "source": [
    "driver.current_url"
   ]
  },
  {
   "cell_type": "code",
   "execution_count": 34,
   "id": "b9cd9c6e",
   "metadata": {},
   "outputs": [],
   "source": [
    "original_url=driver.current_url"
   ]
  },
  {
   "cell_type": "code",
   "execution_count": 35,
   "id": "8ebbc3a6",
   "metadata": {},
   "outputs": [],
   "source": [
    "# XPath for the continue button after pin entry\n",
    "pin_continue_button_xpath = '//*[@id=\"pinContinueBtn\"]'\n",
    "\n",
    "# Find the continue button and click it\n",
    "pin_continue_button_element = driver.find_element(By.XPATH, pin_continue_button_xpath)\n",
    "pin_continue_button_element.click()"
   ]
  },
  {
   "cell_type": "code",
   "execution_count": 37,
   "id": "d1dd106d",
   "metadata": {},
   "outputs": [
    {
     "data": {
      "text/plain": [
       "True"
      ]
     },
     "execution_count": 37,
     "metadata": {},
     "output_type": "execute_result"
    }
   ],
   "source": [
    "from selenium.webdriver.support import expected_conditions as EC\n",
    "\n",
    "WebDriverWait(driver, 30).until(EC.url_changes(original_url))"
   ]
  },
  {
   "cell_type": "code",
   "execution_count": 38,
   "id": "e7bbfddc",
   "metadata": {},
   "outputs": [
    {
     "data": {
      "text/plain": [
       "'https://unofficed.com/?code=9J-ojV'"
      ]
     },
     "execution_count": 38,
     "metadata": {},
     "output_type": "execute_result"
    }
   ],
   "source": [
    "driver.current_url"
   ]
  },
  {
   "cell_type": "code",
   "execution_count": 39,
   "id": "6f528fbf",
   "metadata": {},
   "outputs": [
    {
     "data": {
      "text/plain": [
       "['https://unofficed.com/', '9J-ojV']"
      ]
     },
     "execution_count": 39,
     "metadata": {},
     "output_type": "execute_result"
    }
   ],
   "source": [
    "redirected_url=driver.current_url\n",
    "redirected_url=redirected_url.split(\"?code=\")\n",
    "redirected_url"
   ]
  },
  {
   "cell_type": "code",
   "execution_count": 40,
   "id": "50139d35",
   "metadata": {},
   "outputs": [
    {
     "data": {
      "text/plain": [
       "'9J-ojV'"
      ]
     },
     "execution_count": 40,
     "metadata": {},
     "output_type": "execute_result"
    }
   ],
   "source": [
    "redirected_url[1]"
   ]
  },
  {
   "cell_type": "code",
   "execution_count": null,
   "id": "7891ea52",
   "metadata": {},
   "outputs": [],
   "source": []
  }
 ],
 "metadata": {
  "kernelspec": {
   "display_name": "Python 3 (ipykernel)",
   "language": "python",
   "name": "python3"
  },
  "language_info": {
   "codemirror_mode": {
    "name": "ipython",
    "version": 3
   },
   "file_extension": ".py",
   "mimetype": "text/x-python",
   "name": "python",
   "nbconvert_exporter": "python",
   "pygments_lexer": "ipython3",
   "version": "3.10.12"
  }
 },
 "nbformat": 4,
 "nbformat_minor": 5
}
